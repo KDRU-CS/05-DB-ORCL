{
    "metadata": {
        "kernelspec": {
            "name": "SQL",
            "display_name": "SQL",
            "language": "sql"
        },
        "language_info": {
            "name": "sql",
            "version": ""
        }
    },
    "nbformat_minor": 2,
    "nbformat": 4,
    "cells": [
        {
            "cell_type": "markdown",
            "source": [
                "Oracle Triggers\n",
                "\n",
                "Purpose\n",
                "\n",
                "\\- Logging\n",
                "\n",
                "\\- Backup\n",
                "\n",
                "Triggers types\n",
                "\n",
                "\\- Application Triggers\n",
                "\n",
                "\\- Database Trigger\n",
                "\n",
                "Database Triggers Types\n",
                "\n",
                "\\- DDL Triggers\n",
                "\n",
                "\\- Instead of Trigger\n",
                "\n",
                "\\- DDL Trigger\n",
                "\n",
                "  \n",
                "\n",
                "Events\n",
                "\n",
                "\\- AFTER\n",
                "\n",
                "\\- BEFORE\n",
                "\n",
                "\\- INSTEAD OF"
            ],
            "metadata": {
                "azdata_cell_guid": "b8e51984-dc52-4b69-872b-312ed016b94d"
            },
            "attachments": {}
        },
        {
            "cell_type": "markdown",
            "source": [
                "A Trigger which prints on insertion"
            ],
            "metadata": {
                "azdata_cell_guid": "fb49ea17-2a40-4b08-8c3b-0bc202f2c805",
                "language": ""
            },
            "attachments": {}
        },
        {
            "cell_type": "markdown",
            "source": [
                "\\- We can't create trigger on objects belongs to sys\n",
                "\n",
                "\\- For creating triggers on specifc user, we need to grant trigger creation priviledge"
            ],
            "metadata": {
                "azdata_cell_guid": "075ee1f6-e2fb-49b5-acca-ba94f7e2fe99"
            },
            "attachments": {}
        },
        {
            "cell_type": "code",
            "source": [
                "GRANT CREATE TRIGGER TO [Username];"
            ],
            "metadata": {
                "language": "sql",
                "azdata_cell_guid": "841fd166-82a2-4b22-974e-f68dfacd283f"
            },
            "outputs": [],
            "execution_count": null
        },
        {
            "cell_type": "markdown",
            "source": [
                "If want to give access to a user to create triggers on any user tables"
            ],
            "metadata": {
                "language": "sql",
                "azdata_cell_guid": "60e26f8b-6471-45d1-9227-58db7ed23f83"
            },
            "attachments": {}
        },
        {
            "cell_type": "code",
            "source": [
                "GRANT CREATE ANY TRIGGER TO [Username];"
            ],
            "metadata": {
                "language": "sql",
                "azdata_cell_guid": "a5a4bc69-61a3-4e40-ba18-16a96ef872ad"
            },
            "outputs": [],
            "execution_count": null
        },
        {
            "cell_type": "markdown",
            "source": [
                "Create trigger"
            ],
            "metadata": {
                "language": "sql",
                "azdata_cell_guid": "b7632466-a886-4526-a032-afa42c70bd72"
            },
            "attachments": {}
        },
        {
            "cell_type": "code",
            "source": [
                "CREATE OR REPLACE TRIGGER ProductsInsertionLogger\r\n",
                "AFTER INSERT ON Products\r\n",
                "BEGIN\r\n",
                "    DBMS_OUTPUT.PUT_LINE('You have inserted new product ' || CURRENT_DATE());\r\n",
                "END;"
            ],
            "metadata": {
                "azdata_cell_guid": "1529b75b-1fad-42fe-80f5-0e4b64cd7e6a",
                "language": "sql"
            },
            "outputs": [],
            "execution_count": null
        },
        {
            "cell_type": "markdown",
            "source": [
                "NEW and OLD references"
            ],
            "metadata": {
                "language": "sql",
                "azdata_cell_guid": "faf92782-a63f-4020-b42c-74843271f4f6"
            },
            "attachments": {}
        },
        {
            "cell_type": "code",
            "source": [
                "CREATE OR REPLACE TRIGGER LogNameOfNewlyAddedProduct\r\n",
                "BEFORE INSERT ON Products\r\n",
                "REFERENCING NEW AS NewInsertedRecord OLD AS AlreadyAvailableRecord\r\n",
                "FOR EACH ROW\r\n",
                "BEGIN\r\n",
                "    DBMS_OUTPUT.PUT_LINE(:NewInsertedRecord.name);\r\n",
                "END;"
            ],
            "metadata": {
                "language": "sql",
                "azdata_cell_guid": "47b3f00d-533d-4dbb-83ad-2a7233f25d55"
            },
            "outputs": [],
            "execution_count": null
        },
        {
            "cell_type": "markdown",
            "source": [
                "List all triggers"
            ],
            "metadata": {
                "language": "sql",
                "azdata_cell_guid": "26702604-8e53-4c26-93e0-aad8b51a395f"
            },
            "attachments": {}
        },
        {
            "cell_type": "code",
            "source": [
                "SELECT * FROM USER_TRIGGERS;"
            ],
            "metadata": {
                "language": "sql",
                "azdata_cell_guid": "47f03e03-9813-4147-8611-b426b342c2e1"
            },
            "outputs": [],
            "execution_count": null
        },
        {
            "cell_type": "markdown",
            "source": [
                "Drop a trigger"
            ],
            "metadata": {
                "language": "sql",
                "azdata_cell_guid": "ff0c2a42-57b1-482c-8afd-b9a02e74783b"
            },
            "attachments": {}
        },
        {
            "cell_type": "code",
            "source": [
                "DROP TRIGGER [TriggerName];"
            ],
            "metadata": {
                "language": "sql",
                "azdata_cell_guid": "e2b3f3f1-70d0-4a7a-986c-033143f8640f"
            },
            "outputs": [],
            "execution_count": null
        },
        {
            "cell_type": "markdown",
            "source": [
                "Disable a trigger"
            ],
            "metadata": {
                "language": "sql",
                "azdata_cell_guid": "6c7baf80-ecd1-435b-88c6-70cbe25de93c"
            },
            "attachments": {}
        },
        {
            "cell_type": "code",
            "source": [
                "ALTER TRIGGER [TriggerName] DISABLE;"
            ],
            "metadata": {
                "language": "sql",
                "azdata_cell_guid": "047a9eee-32eb-494d-b5d1-ab13c077569c"
            },
            "outputs": [],
            "execution_count": null
        },
        {
            "cell_type": "markdown",
            "source": [
                "Enable trigger"
            ],
            "metadata": {
                "language": "sql",
                "azdata_cell_guid": "e2ac6b04-4c84-48fb-8f08-7d57ae4ddecd"
            },
            "attachments": {}
        },
        {
            "cell_type": "code",
            "source": [
                "ALTER TRIGGER [TriggerName] ENABLE;"
            ],
            "metadata": {
                "language": "sql",
                "azdata_cell_guid": "8175a74a-ae67-47e8-b376-bf667226fdbf"
            },
            "outputs": [],
            "execution_count": null
        }
    ]
}