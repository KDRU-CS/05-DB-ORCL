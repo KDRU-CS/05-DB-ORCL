{
    "metadata": {
        "kernelspec": {
            "name": "SQL",
            "display_name": "SQL",
            "language": "sql"
        },
        "language_info": {
            "name": "sql",
            "version": ""
        }
    },
    "nbformat_minor": 2,
    "nbformat": 4,
    "cells": [
        {
            "cell_type": "markdown",
            "source": [
                "Stored Procedures"
            ],
            "metadata": {
                "azdata_cell_guid": "d4f75ff9-0144-44e2-a637-9a7a65bf6cb9"
            },
            "attachments": {}
        },
        {
            "cell_type": "markdown",
            "source": [
                "List all stored procedures"
            ],
            "metadata": {
                "azdata_cell_guid": "6c680c6b-2029-4b12-991c-c26f37ab8871",
                "language": ""
            },
            "attachments": {}
        },
        {
            "cell_type": "code",
            "source": [
                "SELECT * FROM All_SOURCE\r\n",
                "WHERE TYPE = 'PROCEDURE'"
            ],
            "metadata": {
                "azdata_cell_guid": "4e81b1cf-c798-4c05-b7b4-92268e6b0205",
                "language": "sql"
            },
            "outputs": [],
            "execution_count": null
        },
        {
            "cell_type": "markdown",
            "source": [
                "The print line Stored procedures in oracle"
            ],
            "metadata": {
                "language": "sql",
                "azdata_cell_guid": "96c503e2-f3db-4678-8e79-3a5fc26ebc25"
            },
            "attachments": {}
        },
        {
            "cell_type": "code",
            "source": [
                "SELECT * FROM All_SOURCE\r\n",
                "WHERE TYPE = 'PROCEDURE' AND\r\n",
                "TEXT LIKE '%dbms%'"
            ],
            "metadata": {
                "language": "sql",
                "azdata_cell_guid": "265f2e7f-5b7e-4c7a-a5a4-2e3a287b6051"
            },
            "outputs": [],
            "execution_count": null
        },
        {
            "cell_type": "markdown",
            "source": [
                "First test procedure"
            ],
            "metadata": {
                "language": "sql",
                "azdata_cell_guid": "df703529-5ac0-4a2d-a672-5e762052dc0f"
            },
            "attachments": {}
        },
        {
            "cell_type": "code",
            "source": [
                "CREATE OR REPLACE PROCEDURE TEST\r\n",
                "IS\r\n",
                "BEGIN\r\n",
                "    DBMS_OUTPUT.PUT_LINE('Assalamu Alaikum!');\r\n",
                "END;"
            ],
            "metadata": {
                "language": "sql",
                "azdata_cell_guid": "9a4d1a37-1ebb-48a8-a7dc-19a57c1ae3f5"
            },
            "outputs": [],
            "execution_count": null
        },
        {
            "cell_type": "markdown",
            "source": [
                "Execute a stored procedure"
            ],
            "metadata": {
                "language": "sql",
                "azdata_cell_guid": "bdba626a-a6a1-4d75-a488-85850deb7138"
            },
            "attachments": {}
        },
        {
            "cell_type": "code",
            "source": [
                "EXECUTE TEST;"
            ],
            "metadata": {
                "language": "sql",
                "azdata_cell_guid": "72972712-39ad-4e16-abc5-045c6b0981ff"
            },
            "outputs": [],
            "execution_count": null
        },
        {
            "cell_type": "markdown",
            "source": [
                "Passing Parameters (IN)"
            ],
            "metadata": {
                "language": "sql",
                "azdata_cell_guid": "2e5ce0f7-48ad-498d-9527-7550948729b0"
            },
            "attachments": {}
        },
        {
            "cell_type": "code",
            "source": [
                "CREATE OR REPLACE PROCEDURE TEST\r\n",
                "(\r\n",
                "    FirstParam IN VARCHAR\r\n",
                ")\r\n",
                "IS\r\n",
                "BEGIN\r\n",
                "    DBMS_OUTPUT.PUT_LINE('Assalamu Alaikum!, Welcome to the ' || FirstParam);\r\n",
                "END;"
            ],
            "metadata": {
                "language": "sql",
                "azdata_cell_guid": "84c39af6-9e1f-4526-9985-552a656b8e0a"
            },
            "outputs": [],
            "execution_count": null
        },
        {
            "cell_type": "markdown",
            "source": [
                "Execute procedure and pass parameteres"
            ],
            "metadata": {
                "language": "sql",
                "azdata_cell_guid": "35fb3017-d51d-42d9-81d8-0b9e4246b1eb"
            },
            "attachments": {}
        },
        {
            "cell_type": "code",
            "source": [
                "EXECUTE TEST('Oracle Course');"
            ],
            "metadata": {
                "language": "sql",
                "azdata_cell_guid": "19754389-8d94-490a-be97-4de25706af4e"
            },
            "outputs": [],
            "execution_count": null
        },
        {
            "cell_type": "markdown",
            "source": [
                "Getting parameter (OUT)"
            ],
            "metadata": {
                "language": "sql",
                "azdata_cell_guid": "253dbe13-3431-4b34-ac69-6dbe11b72885"
            },
            "attachments": {}
        },
        {
            "cell_type": "code",
            "source": [
                "CREATE OR REPLACE PROCEDURE TEST\r\n",
                "(\r\n",
                "    FirstParam OUT VARCHAR\r\n",
                ")\r\n",
                "IS\r\n",
                "BEGIN\r\n",
                "    FirstParam := 'Assalamu Alaikum!';\r\n",
                "END;"
            ],
            "metadata": {
                "language": "sql",
                "azdata_cell_guid": "afb3a6ac-ff57-4f72-ace0-d853af7a684f"
            },
            "outputs": [],
            "execution_count": null
        },
        {
            "cell_type": "markdown",
            "source": [
                "Executing above procedure"
            ],
            "metadata": {
                "language": "sql",
                "azdata_cell_guid": "c85a93ae-f386-45cb-a386-5532904bfb5f"
            },
            "attachments": {}
        },
        {
            "cell_type": "code",
            "source": [
                "DECLARE \r\n",
                "    First VARCHAR(50);\r\n",
                "BEGIN\r\n",
                "    TEST(First);\r\n",
                "    DBMS_OUTPUT.PUT_LINE(First);\r\n",
                "END;"
            ],
            "metadata": {
                "language": "sql",
                "azdata_cell_guid": "1b6b706d-f6ec-4f28-a064-d198a50cbdb9"
            },
            "outputs": [],
            "execution_count": null
        },
        {
            "cell_type": "markdown",
            "source": [
                "Passing and Getting one parameter (IN OUT)"
            ],
            "metadata": {
                "language": "",
                "azdata_cell_guid": "47d7b515-b743-4822-a58d-b7cae8171ad8"
            },
            "attachments": {}
        },
        {
            "cell_type": "code",
            "source": [
                "CREATE OR REPLACE PROCEDURE TEST\r\n",
                "(\r\n",
                "    FirstParam IN OUT VARCHAR\r\n",
                ")\r\n",
                "IS\r\n",
                "BEGIN\r\n",
                "    FirstParam := FirstParam || ', Welcome!';\r\n",
                "END;"
            ],
            "metadata": {
                "azdata_cell_guid": "efda4c4a-208c-4ef9-b378-b10efcabef41",
                "language": "sql"
            },
            "outputs": [],
            "execution_count": null
        },
        {
            "cell_type": "markdown",
            "source": [
                "Executing above procedure"
            ],
            "metadata": {
                "language": "sql",
                "azdata_cell_guid": "7db1bd84-b7a4-4382-b24c-9af1f30ab873"
            },
            "attachments": {}
        },
        {
            "cell_type": "code",
            "source": [
                "DECLARE \r\n",
                "    First VARCHAR(50) := 'Assalamu Alaikum!';\r\n",
                "BEGIN\r\n",
                "    TEST(First);\r\n",
                "    DBMS_OUTPUT.PUT_LINE(First);\r\n",
                "END;"
            ],
            "metadata": {
                "language": "sql",
                "azdata_cell_guid": "98797389-ad6d-42ed-9dee-967a2101f6f4"
            },
            "outputs": [],
            "execution_count": null
        }
    ]
}