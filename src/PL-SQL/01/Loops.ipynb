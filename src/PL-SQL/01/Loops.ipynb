{
    "metadata": {
        "kernelspec": {
            "name": "SQL",
            "display_name": "SQL",
            "language": "sql"
        },
        "language_info": {
            "name": "sql",
            "version": ""
        }
    },
    "nbformat_minor": 2,
    "nbformat": 4,
    "cells": [
        {
            "cell_type": "markdown",
            "source": [
                "Printing a sentence"
            ],
            "metadata": {
                "language": "sql",
                "azdata_cell_guid": "ee04a5c3-937e-4007-bf73-e650a34f0540"
            },
            "attachments": {}
        },
        {
            "cell_type": "markdown",
            "source": [
                "If you are on SqlDeveloper, you need to set SERVEROUTPUT variable on. and then you can print"
            ],
            "metadata": {
                "language": "sql",
                "azdata_cell_guid": "6d8a2528-3952-4c09-8052-843a87484914"
            },
            "attachments": {}
        },
        {
            "cell_type": "code",
            "source": [
                "SET SERVEROUTPUT ON"
            ],
            "metadata": {
                "language": "sql",
                "azdata_cell_guid": "422b1d70-2325-40ca-a27a-e3f5404432fb"
            },
            "outputs": [],
            "execution_count": null
        },
        {
            "cell_type": "code",
            "source": [
                "DBMS_OUTPUT.PUT_LINE('Assalamu Alaikum');"
            ],
            "metadata": {
                "language": "sql",
                "azdata_cell_guid": "8a8b895a-e7a4-42aa-b926-29fe31b34838"
            },
            "outputs": [],
            "execution_count": null
        },
        {
            "cell_type": "markdown",
            "source": [
                "For loop"
            ],
            "metadata": {
                "azdata_cell_guid": "8a19ce2b-cd7f-45aa-8f1b-67b4296d4dcf"
            },
            "attachments": {}
        },
        {
            "cell_type": "code",
            "source": [
                "BEGIN\r\n",
                "FOR a in 10 .. 2000 LOOP \r\n",
                "      INSERT INTO Sales VALUES ('abc' || a, a);\r\n",
                "END LOOP;\r\n",
                "END;"
            ],
            "metadata": {
                "azdata_cell_guid": "5d1af851-3281-43bd-a308-d32fb4ebd4a3",
                "language": "sql"
            },
            "outputs": [],
            "execution_count": null
        },
        {
            "cell_type": "markdown",
            "source": [
                "Reverse loop"
            ],
            "metadata": {
                "language": "sql",
                "azdata_cell_guid": "1aee01fc-4d2d-40e6-b02b-e37db5a0dc4c"
            },
            "attachments": {}
        },
        {
            "cell_type": "code",
            "source": [
                "BEGIN \r\n",
                "   FOR a IN REVERSE 10 .. 20 LOOP \r\n",
                "      DBMS_OUTPUT.PUT_LINE('value of a: ' || a); \r\n",
                "   END LOOP; \r\n",
                "END; "
            ],
            "metadata": {
                "language": "sql",
                "azdata_cell_guid": "b8ab7f19-262f-441c-9476-fd5fa077c689"
            },
            "outputs": [],
            "execution_count": null
        }
    ]
}