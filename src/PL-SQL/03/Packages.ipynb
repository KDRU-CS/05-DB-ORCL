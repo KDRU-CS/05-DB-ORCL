{
    "metadata": {
        "kernelspec": {
            "name": "SQL",
            "display_name": "SQL",
            "language": "sql"
        },
        "language_info": {
            "name": "sql",
            "version": ""
        }
    },
    "nbformat_minor": 2,
    "nbformat": 4,
    "cells": [
        {
            "cell_type": "markdown",
            "source": [
                "Oracle Packages"
            ],
            "metadata": {
                "azdata_cell_guid": "c0aa8f17-ee53-40f5-80fd-4e25f2eb00c6"
            },
            "attachments": {}
        },
        {
            "cell_type": "markdown",
            "source": [
                "Create Math Package which includes Addition, Subtraction, Product."
            ],
            "metadata": {
                "azdata_cell_guid": "14d64289-a89b-4b87-b7a0-d322ec4f150c",
                "language": ""
            },
            "attachments": {}
        },
        {
            "cell_type": "markdown",
            "source": [
                "Declaration"
            ],
            "metadata": {
                "azdata_cell_guid": "ecf05204-ba01-4e4e-8c72-872d0cb17adf"
            },
            "attachments": {}
        },
        {
            "cell_type": "code",
            "source": [
                "CREATE OR REPLACE PACKAGE Math IS\r\n",
                "    FUNCTION Addition(val1 NUMBER, val2 NUMBER) RETURN NUMBER;\r\n",
                "    FUNCTION Product(val1 NUMBER, val2 NUMBER) RETURN NUMBER;\r\n",
                "    FUNCTION Subtraction(val1 NUMBER, val2 NUMBER) RETURN NUMBER;\r\n",
                "END Math;    "
            ],
            "metadata": {
                "azdata_cell_guid": "a9d3aaa9-f372-4db6-ae53-6a611162cab5",
                "language": "sql"
            },
            "outputs": [],
            "execution_count": null
        },
        {
            "cell_type": "markdown",
            "source": [
                "Package Body"
            ],
            "metadata": {
                "language": "sql",
                "azdata_cell_guid": "59a5663f-1f90-40a4-ab45-b83c70f88921"
            },
            "attachments": {}
        },
        {
            "cell_type": "code",
            "source": [
                "CREATE OR REPLACE PACKAGE BODY Math IS\r\n",
                "    \r\n",
                "    FUNCTION Addition(val1 NUMBER, val2 NUMBER) RETURN NUMBER IS\r\n",
                "    BEGIN\r\n",
                "        RETURN (val1 + val2);\r\n",
                "    END Addition;\r\n",
                "    \r\n",
                "    FUNCTION Product(val1 NUMBER, val2 NUMBER) RETURN NUMBER IS\r\n",
                "    BEGIN\r\n",
                "        RETURN (val1 * val2);\r\n",
                "    END Product;\r\n",
                "    \r\n",
                "    FUNCTION Subtraction(val1 NUMBER, val2 NUMBER) RETURN NUMBER IS\r\n",
                "    BEGIN\r\n",
                "        RETURN (val1 - val2);\r\n",
                "    END Subtraction;\r\n",
                "    \r\n",
                "END;    \r\n",
                ""
            ],
            "metadata": {
                "language": "sql",
                "azdata_cell_guid": "f002da7e-0624-4677-97a7-f12e4f69996d"
            },
            "outputs": [],
            "execution_count": null
        },
        {
            "cell_type": "markdown",
            "source": [
                "Call a function from package with select query"
            ],
            "metadata": {
                "language": "sql",
                "azdata_cell_guid": "be49211a-f9ca-42ee-b124-3ff0c1c95469"
            },
            "attachments": {}
        },
        {
            "cell_type": "code",
            "source": [
                "SELECT Math.Addition(23, 39) FROM Dual;"
            ],
            "metadata": {
                "language": "sql",
                "azdata_cell_guid": "9e1067cb-a481-4c8b-a561-e3e37eb707b7"
            },
            "outputs": [],
            "execution_count": null
        }
    ]
}