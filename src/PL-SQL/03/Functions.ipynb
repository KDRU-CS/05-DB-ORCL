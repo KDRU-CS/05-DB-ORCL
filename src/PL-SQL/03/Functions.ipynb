{
    "metadata": {
        "kernelspec": {
            "name": "SQL",
            "display_name": "SQL",
            "language": "sql"
        },
        "language_info": {
            "name": "sql",
            "version": ""
        }
    },
    "nbformat_minor": 2,
    "nbformat": 4,
    "cells": [
        {
            "cell_type": "markdown",
            "source": [
                "Oracle Functions"
            ],
            "metadata": {
                "azdata_cell_guid": "b6a33ec6-8e85-4f86-ab0a-cce683910ff1",
                "language": ""
            },
            "attachments": {}
        },
        {
            "cell_type": "markdown",
            "source": [
                "Creating salary function"
            ],
            "metadata": {
                "azdata_cell_guid": "04440c3d-4985-47f8-a1a1-7ca4ff8af0b1"
            },
            "attachments": {}
        },
        {
            "cell_type": "code",
            "source": [
                "CREATE OR REPLACE FUNCTION GET_SALARY(salary number, tax number) RETURN NUMBER IS\r\n",
                "BEGIN\r\n",
                "    RETURN (salary - ((salary * tax) / 100));\r\n",
                "END;"
            ],
            "metadata": {
                "azdata_cell_guid": "6a733311-afce-47bb-864d-a5c6b326a35b",
                "language": "sql"
            },
            "outputs": [],
            "execution_count": null
        },
        {
            "cell_type": "markdown",
            "source": [
                "Use function with Select Query"
            ],
            "metadata": {
                "language": "sql",
                "azdata_cell_guid": "91692878-7969-4453-b614-1c6bb8960352"
            },
            "attachments": {}
        },
        {
            "cell_type": "code",
            "source": [
                "SELECT Name, Email, Salary, Tax, GET_SALARY(Salary,Tax) AS SalaryWithoutTax\r\n",
                "FROM Employee;"
            ],
            "metadata": {
                "language": "sql",
                "azdata_cell_guid": "4bc4d489-7f45-4bf3-a2a6-7eeded1a3525"
            },
            "outputs": [],
            "execution_count": null
        },
        {
            "cell_type": "markdown",
            "source": [
                "Get function"
            ],
            "metadata": {
                "language": "sql",
                "azdata_cell_guid": "3f630df1-729f-461d-be82-9d0f17007f88"
            },
            "attachments": {}
        },
        {
            "cell_type": "code",
            "source": [
                "SELECT * FROM ALL_SOURCE\r\n",
                "WHERE Type = 'FUNCTION' AND Name = 'GET_SALARY';"
            ],
            "metadata": {
                "language": "sql",
                "azdata_cell_guid": "6b7373d8-0dde-4597-a130-89da4b4d8c66"
            },
            "outputs": [],
            "execution_count": null
        },
        {
            "cell_type": "markdown",
            "source": [
                "Drop function"
            ],
            "metadata": {
                "language": "sql",
                "azdata_cell_guid": "0eddf328-5af6-4e57-8239-d7a71da53f03"
            },
            "attachments": {}
        },
        {
            "cell_type": "code",
            "source": [
                "DROP FUNCTION GET_SALARY;"
            ],
            "metadata": {
                "language": "sql",
                "azdata_cell_guid": "6e125316-ef73-456d-b9d1-f17d6629f00d"
            },
            "outputs": [],
            "execution_count": null
        }
    ]
}