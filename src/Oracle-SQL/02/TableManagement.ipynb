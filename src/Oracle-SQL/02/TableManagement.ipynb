{
    "metadata": {
        "kernelspec": {
            "name": "SQL",
            "display_name": "SQL",
            "language": "sql"
        },
        "language_info": {
            "name": "sql",
            "version": ""
        }
    },
    "nbformat_minor": 2,
    "nbformat": 4,
    "cells": [
        {
            "cell_type": "markdown",
            "source": [
                "Create table"
            ],
            "metadata": {
                "azdata_cell_guid": "27267f85-4f61-4db8-a7a6-b894cca956c2"
            },
            "attachments": {}
        },
        {
            "cell_type": "code",
            "source": [
                "CREATE TABLE Country\r\n",
                "( \r\n",
                "    Name VARCHAR(30) NOT NULL,\r\n",
                "    Province VARCHAR(30) NOT NULL\r\n",
                ");"
            ],
            "metadata": {
                "azdata_cell_guid": "2c9bc6bc-efab-4040-a68f-5940d25a8a03",
                "language": "sql"
            },
            "outputs": [],
            "execution_count": null
        }
    ]
}