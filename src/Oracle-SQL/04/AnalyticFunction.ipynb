{
    "metadata": {
        "kernelspec": {
            "name": "SQL",
            "display_name": "SQL",
            "language": "sql"
        },
        "language_info": {
            "name": "sql",
            "version": ""
        }
    },
    "nbformat_minor": 2,
    "nbformat": 4,
    "cells": [
        {
            "cell_type": "markdown",
            "source": [
                "Analytic Functions"
            ],
            "metadata": {
                "azdata_cell_guid": "4a99db4e-c5d0-43e2-a320-be9467a7e5be"
            },
            "attachments": {}
        },
        {
            "cell_type": "markdown",
            "source": [
                "First value analytic function"
            ],
            "metadata": {
                "azdata_cell_guid": "4960bebb-b907-4702-b298-ab1c4e4b7afe"
            },
            "attachments": {}
        },
        {
            "cell_type": "code",
            "source": [
                "SELECT Emp_Name, FIRST_VALUE(Salary) \r\n",
                "OVER ()\r\n",
                "FROM Employee;"
            ],
            "metadata": {
                "azdata_cell_guid": "9d285ca2-291a-4956-a7a0-85d702536796",
                "language": "sql"
            },
            "outputs": [],
            "execution_count": null
        },
        {
            "cell_type": "markdown",
            "source": [
                "Last value"
            ],
            "metadata": {
                "language": "",
                "azdata_cell_guid": "1ad8373a-fdc3-4d15-b497-390655b04d44"
            },
            "attachments": {}
        },
        {
            "cell_type": "code",
            "source": [
                "SELECT Emp_Name, LAST_VALUE(Salary) \r\n",
                "OVER ()\r\n",
                "FROM Employee;"
            ],
            "metadata": {
                "azdata_cell_guid": "0e2f1a21-a7a6-49b9-9534-f7d154e98bc9",
                "language": "sql"
            },
            "outputs": [],
            "execution_count": null
        },
        {
            "cell_type": "markdown",
            "source": [
                "Nth value"
            ],
            "metadata": {
                "language": "sql",
                "azdata_cell_guid": "45fe25b4-3fcf-4815-af5c-fa85bf82559a"
            },
            "attachments": {}
        },
        {
            "cell_type": "code",
            "source": [
                "SELECT Emp_Name, NTH_VALUE(Salary) \r\n",
                "OVER ()\r\n",
                "FROM Employee;"
            ],
            "metadata": {
                "language": "sql",
                "azdata_cell_guid": "31b4dcd5-4e59-4f0e-b05e-1ffa109ae306"
            },
            "outputs": [],
            "execution_count": null
        },
        {
            "cell_type": "markdown",
            "source": [
                "NTILE"
            ],
            "metadata": {
                "language": "sql",
                "azdata_cell_guid": "8df6f436-4219-46a5-9259-959d361f4ecd"
            },
            "attachments": {}
        },
        {
            "cell_type": "code",
            "source": [
                "SELECT Emp_Name, Salary, NTILE(5) \r\n",
                "OVER (ORDER BY Salary)\r\n",
                "FROM Employee;"
            ],
            "metadata": {
                "language": "sql",
                "azdata_cell_guid": "5d82ae8a-e387-4490-abb7-001a43bb36f4"
            },
            "outputs": [],
            "execution_count": null
        },
        {
            "cell_type": "markdown",
            "source": [
                "Row number function"
            ],
            "metadata": {
                "language": "sql",
                "azdata_cell_guid": "ea6a0149-b62b-443f-8aa9-2ac9a2f21fdd"
            },
            "attachments": {}
        },
        {
            "cell_type": "code",
            "source": [
                "SELECT Emp_Name, City, ROW_NUMBER()\r\n",
                "OVER (PARTITION BY City ORDER BY City)\r\n",
                "FROM Employee;"
            ],
            "metadata": {
                "language": "sql",
                "azdata_cell_guid": "c0c75e1c-60f7-4b1e-892e-e108ed803d07"
            },
            "outputs": [],
            "execution_count": null
        },
        {
            "cell_type": "markdown",
            "source": [
                "Rank"
            ],
            "metadata": {
                "language": "sql",
                "azdata_cell_guid": "74edc718-ea7b-49fd-9383-fac09d02d17e"
            },
            "attachments": {}
        },
        {
            "cell_type": "code",
            "source": [
                "SELECT Name, Marks, RANK()\r\n",
                "OVER (ORDER BY Marks DESC)\r\n",
                "FROM StudentMarks;"
            ],
            "metadata": {
                "language": "sql",
                "azdata_cell_guid": "f93c4338-ebf8-4179-963e-260c8c583cac"
            },
            "outputs": [],
            "execution_count": null
        },
        {
            "cell_type": "markdown",
            "source": [
                "Dense Rank"
            ],
            "metadata": {
                "language": "sql",
                "azdata_cell_guid": "c6d01964-7325-4860-936e-d34380b5df3f"
            },
            "attachments": {}
        },
        {
            "cell_type": "code",
            "source": [
                "SELECT Name, Marks, DENSE_RANK()\r\n",
                "OVER (ORDER BY Marks DESC)\r\n",
                "FROM StudentMarks;"
            ],
            "metadata": {
                "language": "sql",
                "azdata_cell_guid": "56fc8f5c-417c-4079-93ad-5e8e429356de"
            },
            "outputs": [],
            "execution_count": null
        },
        {
            "cell_type": "markdown",
            "source": [
                "Percent rank"
            ],
            "metadata": {
                "language": "sql",
                "azdata_cell_guid": "b77a5ade-00c3-4655-a3dd-4c40e8a6f1dd"
            },
            "attachments": {}
        },
        {
            "cell_type": "code",
            "source": [
                "SELECT Name, Marks, PERCENT_RANK()\r\n",
                "OVER (ORDER BY Marks ASC)\r\n",
                "FROM StudentMarks;"
            ],
            "metadata": {
                "language": "sql",
                "azdata_cell_guid": "e71c5ced-e2e8-42be-bd4a-9f173450dc11"
            },
            "outputs": [],
            "execution_count": null
        },
        {
            "cell_type": "markdown",
            "source": [
                "Make above function readable using Round function"
            ],
            "metadata": {
                "language": "sql",
                "azdata_cell_guid": "6fc41276-1e89-4406-9bce-9d5c85e0b6f5"
            },
            "attachments": {}
        },
        {
            "cell_type": "code",
            "source": [
                "SELECT Name, Marks, ROUND(PERCENT_RANK()\r\n",
                "OVER (ORDER BY Marks ASC) * 100, 2)\r\n",
                "FROM StudentMarks;"
            ],
            "metadata": {
                "language": "sql",
                "azdata_cell_guid": "f9acf4a8-c090-4410-b1d3-41705167ac99"
            },
            "outputs": [],
            "execution_count": null
        },
        {
            "cell_type": "markdown",
            "source": [
                "We can concat \"%\" to the percent rank column"
            ],
            "metadata": {
                "language": "sql",
                "azdata_cell_guid": "0784da49-5f61-4def-bb2e-56f228ba980c"
            },
            "attachments": {}
        },
        {
            "cell_type": "code",
            "source": [
                "SELECT Name, Marks, ROUND(PERCENT_RANK()\r\n",
                "OVER (ORDER BY Marks ASC) * 100, 2) || '%'\r\n",
                "FROM StudentMarks;"
            ],
            "metadata": {
                "language": "sql",
                "azdata_cell_guid": "3fe11457-a8cd-43e7-840e-c801e251bbdb"
            },
            "outputs": [],
            "execution_count": null
        },
        {
            "cell_type": "markdown",
            "source": [
                "Lag function"
            ],
            "metadata": {
                "language": "sql",
                "azdata_cell_guid": "e48e4333-225a-4230-ab9f-9e15a3af0214"
            },
            "attachments": {}
        },
        {
            "cell_type": "code",
            "source": [
                "SELECT Name, Marks, LAG(Marks, 1, 0)\r\n",
                "OVER (ORDER BY Marks ASC)\r\n",
                "FROM StudentMarks;"
            ],
            "metadata": {
                "language": "sql",
                "azdata_cell_guid": "ec659c7a-6495-4c63-93af-0dc46f99e18a"
            },
            "outputs": [],
            "execution_count": null
        },
        {
            "cell_type": "markdown",
            "source": [
                "Lead function"
            ],
            "metadata": {
                "language": "",
                "azdata_cell_guid": "bbe26891-4fe9-4f8f-8dd3-28948a9f074e"
            },
            "attachments": {}
        },
        {
            "cell_type": "code",
            "source": [
                "SELECT Name, Marks, LEAD(Marks, 1, 0)\r\n",
                "OVER (ORDER BY Marks ASC)\r\n",
                "FROM StudentMarks;"
            ],
            "metadata": {
                "azdata_cell_guid": "823b3d1e-a272-424c-9af2-bdf4b1aae6e4",
                "language": "sql"
            },
            "outputs": [],
            "execution_count": null
        }
    ]
}