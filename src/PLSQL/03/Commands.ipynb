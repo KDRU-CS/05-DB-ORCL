{
    "metadata": {
        "kernelspec": {
            "name": "SQL",
            "display_name": "SQL",
            "language": "sql"
        },
        "language_info": {
            "name": "sql",
            "version": ""
        }
    },
    "nbformat_minor": 2,
    "nbformat": 4,
    "cells": [
        {
            "cell_type": "markdown",
            "source": [
                "Print current user name"
            ],
            "metadata": {
                "language": "sql",
                "azdata_cell_guid": "f3930904-92ed-434d-9f66-fd50297c3795"
            },
            "attachments": {}
        },
        {
            "cell_type": "code",
            "source": [
                "show user;"
            ],
            "metadata": {
                "azdata_cell_guid": "95d0dee5-993f-415f-a700-90692741d8d5",
                "language": "sql"
            },
            "outputs": [
                {
                    "output_type": "display_data",
                    "data": {
                        "text/html": "Commands completed successfully."
                    },
                    "metadata": {}
                },
                {
                    "output_type": "display_data",
                    "data": {
                        "text/html": "Total execution time: 00:00:00.255"
                    },
                    "metadata": {}
                }
            ],
            "execution_count": 39
        },
        {
            "cell_type": "markdown",
            "source": [
                "Prints service names"
            ],
            "metadata": {
                "language": "sql",
                "azdata_cell_guid": "df352b09-a9a7-475a-8b18-5dfb173637cb"
            },
            "attachments": {}
        },
        {
            "cell_type": "code",
            "source": [
                "select value from v$parameter where name like '%service_name%';"
            ],
            "metadata": {
                "language": "sql",
                "azdata_cell_guid": "97ae3c2a-6e18-488c-956c-865c01a97821"
            },
            "outputs": [
                {
                    "output_type": "error",
                    "ename": "",
                    "evalue": "Msg 208, Level 16, State 1, Line 1\r\nInvalid object name 'DeviceIdentifiers'.",
                    "traceback": []
                },
                {
                    "output_type": "display_data",
                    "data": {
                        "text/html": "Total execution time: 00:00:00.571"
                    },
                    "metadata": {}
                }
            ],
            "execution_count": 54
        },
        {
            "cell_type": "markdown",
            "source": [
                "Clean plsql screen"
            ],
            "metadata": {
                "language": "sql",
                "azdata_cell_guid": "d0445c1a-f919-49cd-9c62-68be120a58e2"
            },
            "attachments": {}
        },
        {
            "cell_type": "code",
            "source": [
                "cl src;"
            ],
            "metadata": {
                "language": "sql",
                "azdata_cell_guid": "5492bd77-5cd1-4388-a719-d963d21cef18"
            },
            "outputs": [],
            "execution_count": null
        },
        {
            "cell_type": "markdown",
            "source": [
                ""
            ],
            "metadata": {
                "language": "sql",
                "azdata_cell_guid": "5a90138e-4c3b-4cda-9dbb-f97f6fc571da"
            }
        }
    ]
}