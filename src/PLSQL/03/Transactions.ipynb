{
    "metadata": {
        "kernelspec": {
            "name": "SQL",
            "display_name": "SQL",
            "language": "sql"
        },
        "language_info": {
            "name": "sql",
            "version": ""
        }
    },
    "nbformat_minor": 2,
    "nbformat": 4,
    "cells": [
        {
            "cell_type": "markdown",
            "source": [
                "Transactions"
            ],
            "metadata": {
                "azdata_cell_guid": "13a694ae-20b4-43e2-86c0-ab50b25a2d11"
            },
            "attachments": {}
        },
        {
            "cell_type": "markdown",
            "source": [
                "Select active transactions"
            ],
            "metadata": {
                "azdata_cell_guid": "8b3b5e60-2574-43ec-bda3-ac96b9126752"
            },
            "attachments": {}
        },
        {
            "cell_type": "code",
            "source": [
                "SELECT XID, STATUS FROM V$TRANSACTION;"
            ],
            "metadata": {
                "azdata_cell_guid": "0381cf52-6caa-45b7-a15e-5b08a2c58152",
                "language": "sql"
            },
            "outputs": [],
            "execution_count": null
        },
        {
            "cell_type": "markdown",
            "source": [
                "Save a savepoint for transaction"
            ],
            "metadata": {
                "language": "sql",
                "azdata_cell_guid": "a9c8b5d1-1075-4f1b-871b-ba20c424f71f"
            },
            "attachments": {}
        },
        {
            "cell_type": "code",
            "source": [
                "SAVEPOINT [name];"
            ],
            "metadata": {
                "language": "sql",
                "azdata_cell_guid": "43601536-1a4f-44db-a29b-a7ce8666a49d"
            },
            "outputs": [],
            "execution_count": null
        },
        {
            "cell_type": "markdown",
            "source": [
                "Rollback to a save point"
            ],
            "metadata": {
                "language": "sql",
                "azdata_cell_guid": "fffdaaaa-2a1c-4a31-aeb2-4b9af610efb0"
            },
            "attachments": {}
        },
        {
            "cell_type": "code",
            "source": [
                "ROLLBACK WORK TO [name];"
            ],
            "metadata": {
                "language": "sql",
                "azdata_cell_guid": "09c92aad-7e53-4fbf-9f8e-92871c060317"
            },
            "outputs": [],
            "execution_count": null
        },
        {
            "cell_type": "markdown",
            "source": [
                "Rollback all"
            ],
            "metadata": {
                "language": "sql",
                "azdata_cell_guid": "ae10900f-22e5-446e-a5c9-f14c5088a3cc"
            },
            "attachments": {}
        },
        {
            "cell_type": "code",
            "source": [
                "ROLLBACK;"
            ],
            "metadata": {
                "language": "sql",
                "azdata_cell_guid": "f79f014a-8003-4f44-94e2-a0c243d7e4f8"
            },
            "outputs": [],
            "execution_count": null
        }
    ]
}