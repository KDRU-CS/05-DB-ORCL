{
    "metadata": {
        "kernelspec": {
            "name": "SQL",
            "display_name": "SQL",
            "language": "sql"
        },
        "language_info": {
            "name": "sql",
            "version": ""
        }
    },
    "nbformat_minor": 2,
    "nbformat": 4,
    "cells": [
        {
            "cell_type": "markdown",
            "source": [
                "insert date to a table"
            ],
            "metadata": {
                "language": "sql",
                "azdata_cell_guid": "ad304925-5025-4393-b06e-f7f583355356"
            },
            "attachments": {}
        },
        {
            "cell_type": "code",
            "source": [
                "INSERT INTO Country VALUES ('Afghanistan', 'Kabul');"
            ],
            "metadata": {
                "language": "sql",
                "azdata_cell_guid": "ab092189-20dc-4517-a157-204573024d97"
            },
            "outputs": [],
            "execution_count": null
        },
        {
            "cell_type": "markdown",
            "source": [
                "Select data from a table"
            ],
            "metadata": {
                "language": "",
                "azdata_cell_guid": "800e5ede-9dab-4442-8682-5659a55e2627"
            },
            "attachments": {}
        },
        {
            "cell_type": "code",
            "source": [
                "SELECT * FROM Country;"
            ],
            "metadata": {
                "azdata_cell_guid": "19c9a9d8-0add-4701-9856-ed7dd32df1da",
                "language": "sql"
            },
            "outputs": [],
            "execution_count": null
        },
        {
            "cell_type": "markdown",
            "source": [
                "Update data"
            ],
            "metadata": {
                "language": "sql",
                "azdata_cell_guid": "ab661ad5-f5c0-4301-a503-3233bb8a9ba9"
            },
            "attachments": {}
        },
        {
            "cell_type": "code",
            "source": [
                "UPDATE Country\r\n",
                "SET City = 'Qabul'\r\n",
                "WHERE City = 'Kabul'"
            ],
            "metadata": {
                "language": "sql",
                "azdata_cell_guid": "e6449a6b-96bd-4427-9fd3-7fd61b7d3261"
            },
            "outputs": [],
            "execution_count": null
        },
        {
            "cell_type": "markdown",
            "source": [
                "Delete a table data"
            ],
            "metadata": {
                "language": "",
                "azdata_cell_guid": "65c24b20-b5c5-468b-86d6-51859c4ddda3"
            },
            "attachments": {}
        },
        {
            "cell_type": "code",
            "source": [
                "DELETE FROM Country;"
            ],
            "metadata": {
                "azdata_cell_guid": "2a720a99-de21-40f1-beda-6c23218ea796",
                "language": "sql"
            },
            "outputs": [],
            "execution_count": null
        }
    ]
}