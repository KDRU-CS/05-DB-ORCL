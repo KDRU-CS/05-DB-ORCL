{
    "metadata": {
        "kernelspec": {
            "name": "SQL",
            "display_name": "SQL",
            "language": "sql"
        },
        "language_info": {
            "name": "sql",
            "version": ""
        }
    },
    "nbformat_minor": 2,
    "nbformat": 4,
    "cells": [
        {
            "cell_type": "markdown",
            "source": [
                "List tablespaces"
            ],
            "metadata": {
                "azdata_cell_guid": "0d5904f2-5243-4105-b74e-7c4d72c5cc23",
                "language": ""
            },
            "attachments": {}
        },
        {
            "cell_type": "code",
            "source": [
                "SELECT *\r\n",
                "FROM DBA_TABLESPACES;"
            ],
            "metadata": {
                "language": "sql",
                "azdata_cell_guid": "882dc993-4001-40d5-9e56-4950f912678f"
            },
            "outputs": [],
            "execution_count": null
        },
        {
            "cell_type": "markdown",
            "source": [
                "Create a tablespace"
            ],
            "metadata": {
                "language": "sql",
                "azdata_cell_guid": "5a6ff32e-7926-40ba-9ebf-3dd281648398"
            },
            "attachments": {}
        },
        {
            "cell_type": "code",
            "source": [
                "CREATE TABLESPACE <tablespace>\r\n",
                "DATAFILE '<tablespace>.dat' \r\n",
                "SIZE 20M;"
            ],
            "metadata": {
                "language": "sql",
                "azdata_cell_guid": "3ac54b2e-6070-49f1-bdd4-1374f5244c0f"
            },
            "outputs": [],
            "execution_count": null
        },
        {
            "cell_type": "markdown",
            "source": [
                "Drop a tablespace"
            ],
            "metadata": {
                "language": "sql",
                "azdata_cell_guid": "2f624974-36a1-404d-a1eb-899bbb452756"
            },
            "attachments": {}
        },
        {
            "cell_type": "code",
            "source": [
                "DROP TABLESPACE <tablespace>;"
            ],
            "metadata": {
                "language": "sql",
                "azdata_cell_guid": "7ce01f26-ee8d-4659-873c-4afd5426fcab"
            },
            "outputs": [],
            "execution_count": null
        },
        {
            "cell_type": "markdown",
            "source": [
                "Add unlimited space on a tablespace to a user"
            ],
            "metadata": {
                "language": "",
                "azdata_cell_guid": "ea11dc11-9353-4092-961b-af7a8f0402e0"
            },
            "attachments": {}
        },
        {
            "cell_type": "code",
            "source": [
                "ALTER USER <username> QUOTA UNLIMITED ON <tablespace>;"
            ],
            "metadata": {
                "azdata_cell_guid": "782384b5-f843-40e1-a46a-3034196f9272",
                "language": "sql"
            },
            "outputs": [],
            "execution_count": null
        },
        {
            "cell_type": "markdown",
            "source": [
                "OR 10 MB"
            ],
            "metadata": {
                "language": "sql",
                "azdata_cell_guid": "2a411fd1-b690-4d30-81e6-9ad826043c24"
            },
            "attachments": {}
        },
        {
            "cell_type": "code",
            "source": [
                "ALTER USER <username> QUOTA 10MB ON <tablespace>;"
            ],
            "metadata": {
                "language": "sql",
                "azdata_cell_guid": "1ebe5829-9d2f-4ea6-b55b-1a0f2207a85d"
            },
            "outputs": [],
            "execution_count": null
        }
    ]
}