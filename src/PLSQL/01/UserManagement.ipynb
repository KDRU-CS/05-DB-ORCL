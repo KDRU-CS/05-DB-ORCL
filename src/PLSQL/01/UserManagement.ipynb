{
    "metadata": {
        "kernelspec": {
            "name": "SQL",
            "display_name": "SQL",
            "language": "sql"
        },
        "language_info": {
            "name": "sql",
            "version": ""
        },
        "orig_nbformat": 4
    },
    "nbformat_minor": 2,
    "nbformat": 4,
    "cells": [
        {
            "cell_type": "markdown",
            "source": [
                "List all users which are visible to current (login) user"
            ],
            "metadata": {
                "azdata_cell_guid": "c2f7b33f-f5d5-4f30-bd05-c450c3d5d39a",
                "language": ""
            },
            "attachments": {}
        },
        {
            "cell_type": "code",
            "source": [
                "SELECT * FROM all_users;"
            ],
            "metadata": {
                "language": "sql",
                "azdata_cell_guid": "546ff514-9861-4e6a-8cae-f90564102190"
            },
            "outputs": [],
            "execution_count": null
        },
        {
            "cell_type": "markdown",
            "source": [
                "List all users in the oracle database. This query can be executed on user with high priviledges"
            ],
            "metadata": {
                "language": "",
                "azdata_cell_guid": "6e43ce75-4b98-4281-b9c2-e4ba6fb016d1"
            },
            "attachments": {}
        },
        {
            "cell_type": "code",
            "source": [
                "SELECT * FROM dba_users;"
            ],
            "metadata": {
                "azdata_cell_guid": "e6616f40-cbf0-4c4c-bc7a-14e7ef5d7746",
                "language": "sql"
            },
            "outputs": [],
            "execution_count": null
        },
        {
            "cell_type": "markdown",
            "source": [
                "Shows information about the <span style=\"color: #569cd6;\">login</span> user"
            ],
            "metadata": {
                "language": "",
                "azdata_cell_guid": "aa311a87-0670-44f0-8d81-241b54221c1b"
            },
            "attachments": {}
        },
        {
            "cell_type": "code",
            "source": [
                "SELECT * FROM user_users;"
            ],
            "metadata": {
                "azdata_cell_guid": "0fcc1e6a-5706-4b87-9b07-19a80eabe8e0",
                "language": "sql"
            },
            "outputs": [],
            "execution_count": null
        },
        {
            "cell_type": "markdown",
            "source": [
                "Creating a new user\n",
                "\n",
                "1. <span style=\"color: #569cd6;\">Set</span> \\_ORACLE\\_SCRIPT <span style=\"color: #d4d4d4;\">=</span> true\n",
                "    \n",
                "2. <span style=\"font-size: 12px; white-space: pre;\">Create user</span>  \n",
                "    \n",
                "3. <span style=\"font-size: 12px; white-space: pre;\">Grant connect permission</span>"
            ],
            "metadata": {
                "language": "sql",
                "azdata_cell_guid": "8b5f8a4b-956f-4bf3-9da4-586f83b65d30"
            },
            "attachments": {}
        },
        {
            "cell_type": "code",
            "source": [
                "ALTER SESSION SET \"_ORACLE_SCRIPT\" = TRUE;\r\n",
                "CREATE USER <Username> IDENTIFIED BY <Password>;\r\n",
                "GRANT CONNECT TO <Username>;"
            ],
            "metadata": {
                "language": "sql",
                "azdata_cell_guid": "a52e59a4-e034-4da2-a125-940d5238e440"
            },
            "outputs": [],
            "execution_count": null
        },
        {
            "cell_type": "markdown",
            "source": [
                "Drop user"
            ],
            "metadata": {
                "language": "sql",
                "azdata_cell_guid": "bd57a6f1-fd4c-43da-8114-ab42c4989d45"
            },
            "attachments": {}
        },
        {
            "cell_type": "code",
            "source": [
                "DROP USER sem;"
            ],
            "metadata": {
                "language": "sql",
                "azdata_cell_guid": "de62daa1-5d0f-47e0-9abc-698a9c8659d2"
            },
            "outputs": [],
            "execution_count": null
        },
        {
            "cell_type": "markdown",
            "source": [
                "Change password of a user"
            ],
            "metadata": {
                "language": "sql",
                "azdata_cell_guid": "0dd02fb2-ccde-4cba-948b-27eb3476c80a"
            },
            "attachments": {}
        },
        {
            "cell_type": "code",
            "source": [
                "ALTER USER <Username> IDENTIFIED BY <Password>;"
            ],
            "metadata": {
                "language": "sql",
                "azdata_cell_guid": "60f5ff5d-bbdd-4e76-a7bf-19e3089bbc16"
            },
            "outputs": [],
            "execution_count": null
        },
        {
            "cell_type": "markdown",
            "source": [
                "Select all information of a user"
            ],
            "metadata": {
                "language": "",
                "azdata_cell_guid": "a958a5fb-b972-4ebf-8bb4-455107348983"
            },
            "attachments": {}
        },
        {
            "cell_type": "code",
            "source": [
                "SELECT * FROM all_users\r\n",
                "WHERE username ='<USERNAME>';"
            ],
            "metadata": {
                "azdata_cell_guid": "c1dae2f5-30d1-4a20-acf7-d98a122d9660",
                "language": "sql"
            },
            "outputs": [],
            "execution_count": null
        },
        {
            "cell_type": "markdown",
            "source": [
                "Update some information of a user"
            ],
            "metadata": {
                "language": "",
                "azdata_cell_guid": "6f90bfac-1957-4ab2-b3bd-b04d5c1d0c9a"
            },
            "attachments": {}
        },
        {
            "cell_type": "code",
            "source": [
                "UPDATE all_users\r\n",
                "SET username = '<username>'\r\n",
                "WHERE username ='<username>';"
            ],
            "metadata": {
                "azdata_cell_guid": "0b334bcd-999f-4e70-9bf9-6bf2412c6451",
                "language": "sql"
            },
            "outputs": [],
            "execution_count": null
        }
    ]
}