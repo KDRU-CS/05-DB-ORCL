{
    "metadata": {
        "kernelspec": {
            "name": "SQL",
            "display_name": "SQL",
            "language": "sql"
        },
        "language_info": {
            "name": "sql",
            "version": ""
        }
    },
    "nbformat_minor": 2,
    "nbformat": 4,
    "cells": [
        {
            "cell_type": "markdown",
            "source": [
                "Aggregate Functions"
            ],
            "metadata": {
                "azdata_cell_guid": "054fcdc3-1280-4e48-b18f-9fe61dc53b7b"
            },
            "attachments": {}
        },
        {
            "cell_type": "markdown",
            "source": [
                "Count function: Counts and returns number of selected rows"
            ],
            "metadata": {
                "azdata_cell_guid": "a0f0a80e-1df1-417c-8784-0a99435a6eac"
            },
            "attachments": {}
        },
        {
            "cell_type": "code",
            "source": [
                "SELECT COUNT(*) FROM Mobile"
            ],
            "metadata": {
                "azdata_cell_guid": "660bc47b-53bf-4d3f-bf93-861bc8bc2337",
                "language": "sql"
            },
            "outputs": [],
            "execution_count": null
        },
        {
            "cell_type": "markdown",
            "source": [
                "Average functions"
            ],
            "metadata": {
                "language": "",
                "azdata_cell_guid": "cb8aed65-b91e-4bcf-9b4c-96125231e7e2"
            },
            "attachments": {}
        },
        {
            "cell_type": "code",
            "source": [
                "SELECT AVG(PRICE) FROM Mobile"
            ],
            "metadata": {
                "azdata_cell_guid": "626fa262-3b66-40ae-9b46-bf9ee15da145",
                "language": "sql"
            },
            "outputs": [],
            "execution_count": null
        },
        {
            "cell_type": "markdown",
            "source": [
                "Sum function"
            ],
            "metadata": {
                "language": "sql",
                "azdata_cell_guid": "f837db8e-ec23-46b5-8be3-1156a8388c1a"
            },
            "attachments": {}
        },
        {
            "cell_type": "code",
            "source": [
                "SELECT SUM(PRICE) FROM Mobile"
            ],
            "metadata": {
                "language": "sql",
                "azdata_cell_guid": "9d258f78-a9ed-449a-8be7-a1dd12972e34"
            },
            "outputs": [],
            "execution_count": null
        },
        {
            "cell_type": "markdown",
            "source": [
                "Distinct and all keywords"
            ],
            "metadata": {
                "language": "sql",
                "azdata_cell_guid": "b69cef07-2a74-4506-8a98-b48a34700c6c"
            },
            "attachments": {}
        },
        {
            "cell_type": "code",
            "source": [
                "SELECT SUM(PRICE), SUM(ALL PRICE), SUM(DISTINCT PRICE) FROM Mobile"
            ],
            "metadata": {
                "language": "sql",
                "azdata_cell_guid": "ec0ecee2-d12c-41e7-a46e-99716954903d"
            },
            "outputs": [],
            "execution_count": null
        },
        {
            "cell_type": "markdown",
            "source": [
                "Max and Min functions"
            ],
            "metadata": {
                "language": "sql",
                "azdata_cell_guid": "0d33c9fb-1dd7-4c2d-9fa2-7dd4cd0df737"
            },
            "attachments": {}
        },
        {
            "cell_type": "code",
            "source": [
                "SELECT MAX(PRICE), MIN(ALL PRICE) FROM Mobile"
            ],
            "metadata": {
                "language": "sql",
                "azdata_cell_guid": "cfe06f99-d8d6-4b34-8790-e9f84d733ff6"
            },
            "outputs": [],
            "execution_count": null
        },
        {
            "cell_type": "markdown",
            "source": [
                "Group by"
            ],
            "metadata": {
                "language": "sql",
                "azdata_cell_guid": "083c51e6-eedd-4fb4-9769-a108b1591c7c"
            },
            "attachments": {}
        },
        {
            "cell_type": "code",
            "source": [
                "SELECT Company, MAX (Price) FROM Mobile GROUP BY Company;"
            ],
            "metadata": {
                "language": "sql",
                "azdata_cell_guid": "20bb64cc-4934-458f-b175-4fd2d0e92c94"
            },
            "outputs": [],
            "execution_count": null
        }
    ]
}